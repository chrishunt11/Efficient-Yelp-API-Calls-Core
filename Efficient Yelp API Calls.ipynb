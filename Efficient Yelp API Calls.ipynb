{
 "cells": [
  {
   "cell_type": "markdown",
   "id": "3f73c7f6",
   "metadata": {},
   "source": [
    "##### Imports and instantiating the API"
   ]
  },
  {
   "cell_type": "code",
   "execution_count": 1,
   "id": "e4070b63",
   "metadata": {},
   "outputs": [],
   "source": [
    "# Standard Imports\n",
    "import numpy as np\n",
    "import pandas as pd\n",
    "import matplotlib.pyplot as plt\n",
    "import seaborn as sns\n",
    "# Additional Imports\n",
    "import os, json, math, time\n",
    "from yelpapi import YelpAPI\n",
    "from tqdm.notebook import tqdm_notebook"
   ]
  },
  {
   "cell_type": "code",
   "execution_count": 2,
   "id": "17f7fbde",
   "metadata": {},
   "outputs": [],
   "source": [
    "with open('/Users/cjhun/.secret/yelp_api.json') as f:   #adjust for your path\n",
    "    login = json.load(f)\n",
    "\n",
    "# Instantiate YelpAPI Variable\n",
    "yelp_api = YelpAPI(login['api-key'], timeout_s=5.0)"
   ]
  },
  {
   "cell_type": "markdown",
   "id": "cb8ddbbc",
   "metadata": {},
   "source": [
    "##### Define Search"
   ]
  },
  {
   "cell_type": "code",
   "execution_count": 3,
   "id": "742541d6",
   "metadata": {},
   "outputs": [],
   "source": [
    "# setting our API call parameters\n",
    "LOCATION = 'PA'\n",
    "TERM = 'Chicken'"
   ]
  },
  {
   "cell_type": "markdown",
   "id": "3684e7db",
   "metadata": {},
   "source": [
    "##### Create a results-in-progress JSON file"
   ]
  },
  {
   "cell_type": "code",
   "execution_count": 4,
   "id": "a139e8b9",
   "metadata": {},
   "outputs": [
    {
     "data": {
      "text/plain": [
       "'Data/results_in_progress_PA_chicken.json'"
      ]
     },
     "execution_count": 4,
     "metadata": {},
     "output_type": "execute_result"
    }
   ],
   "source": [
    "# Specifying JSON_FILE filename (can include folder)\n",
    "# include the search terms in the file name\n",
    "JSON_FILE = 'Data/results_in_progress_PA_chicken.json'\n",
    "JSON_FILE"
   ]
  },
  {
   "cell_type": "code",
   "execution_count": 5,
   "id": "37ce600d",
   "metadata": {},
   "outputs": [
    {
     "name": "stdout",
     "output_type": "stream",
     "text": [
      "[i] Data/results_in_progress_PA_chicken.json not found. Saving empty list to file\n"
     ]
    }
   ],
   "source": [
    "# check if JSON_FILE exists\n",
    "file_exists = os.path.isfile(JSON_FILE)\n",
    "\n",
    "# If it does not exist\n",
    "if file_exists == False:\n",
    "    \n",
    "    # Create any needed folders\n",
    "    # get the folder name only\n",
    "    folder = os.path.dirname(JSON_FILE)\n",
    "    \n",
    "    # IF JSON_FILE included a folder\n",
    "    if len(folder) > 0:\n",
    "        os.makedirs(folder, exist_ok=True)\n",
    "        \n",
    "    # Inform user and save empty list\n",
    "    print(f'[i] {JSON_FILE} not found. Saving empty list to file')\n",
    "    \n",
    "    # save an empty list \n",
    "    with open(JSON_FILE, 'w') as f:\n",
    "        json.dump([],f)\n",
    "        \n",
    "# if it exists, inform user\n",
    "else:\n",
    "    print(f'[i] {JSON_FILE} already exists')"
   ]
  },
  {
   "cell_type": "markdown",
   "id": "765941cf",
   "metadata": {},
   "source": [
    "##### Determine how many results are already in the file"
   ]
  },
  {
   "cell_type": "code",
   "execution_count": 6,
   "id": "ddea54f6",
   "metadata": {},
   "outputs": [
    {
     "name": "stdout",
     "output_type": "stream",
     "text": [
      " - 0 previous results found.\n"
     ]
    }
   ],
   "source": [
    "# Load previous results and use len of results for offset\n",
    "with open(JSON_FILE, 'r') as f:\n",
    "    previous_results = json.load(f)\n",
    "    \n",
    "# set offset based on previous results\n",
    "n_results = len(previous_results)\n",
    "print(f' - {n_results} previous results found.')"
   ]
  },
  {
   "cell_type": "markdown",
   "id": "946805cd",
   "metadata": {},
   "source": [
    "##### Figure out how many pages of results we will need"
   ]
  },
  {
   "cell_type": "code",
   "execution_count": 7,
   "id": "aba738c3",
   "metadata": {},
   "outputs": [
    {
     "data": {
      "text/plain": [
       "dict_keys(['businesses', 'total', 'region'])"
      ]
     },
     "execution_count": 7,
     "metadata": {},
     "output_type": "execute_result"
    }
   ],
   "source": [
    "# use our yelp_api variable's search_query method to perform out API call\n",
    "results = yelp_api.search_query(location=LOCATION,\n",
    "                               term=TERM,\n",
    "                               offset=n_results)\n",
    "results.keys()"
   ]
  },
  {
   "cell_type": "code",
   "execution_count": 8,
   "id": "ca944fa8",
   "metadata": {},
   "outputs": [
    {
     "data": {
      "text/plain": [
       "10900"
      ]
     },
     "execution_count": 8,
     "metadata": {},
     "output_type": "execute_result"
    }
   ],
   "source": [
    "# How many results total?\n",
    "total_results = results['total']\n",
    "total_results"
   ]
  },
  {
   "cell_type": "code",
   "execution_count": 9,
   "id": "e0364be8",
   "metadata": {},
   "outputs": [
    {
     "data": {
      "text/plain": [
       "20"
      ]
     },
     "execution_count": 9,
     "metadata": {},
     "output_type": "execute_result"
    }
   ],
   "source": [
    "# How many did we get the details for?\n",
    "results_per_page = len(results['businesses'])\n",
    "results_per_page"
   ]
  },
  {
   "cell_type": "code",
   "execution_count": 10,
   "id": "f5017ee8",
   "metadata": {},
   "outputs": [
    {
     "data": {
      "text/plain": [
       "545"
      ]
     },
     "execution_count": 10,
     "metadata": {},
     "output_type": "execute_result"
    }
   ],
   "source": [
    "# import additional packages for controlling our loop\n",
    "import time, math\n",
    "# use math.ceil to round up for the total number of pages of results\n",
    "n_pages = math.ceil((results['total']-n_results)/ results_per_page)\n",
    "n_pages"
   ]
  },
  {
   "cell_type": "markdown",
   "id": "ec951f39",
   "metadata": {},
   "source": [
    "##### Add this page of results to .json file"
   ]
  },
  {
   "cell_type": "code",
   "execution_count": 11,
   "id": "2268d625",
   "metadata": {},
   "outputs": [],
   "source": [
    "# join new results with old list with extend and save to file\n",
    "previous_results.extend(results['businesses'])\n",
    "with open(JSON_FILE, 'w') as f:\n",
    "    json.dump(previous_results, f)"
   ]
  },
  {
   "cell_type": "markdown",
   "id": "5097ee1a",
   "metadata": {},
   "source": [
    "##### Set up a progress bar in our for loop"
   ]
  },
  {
   "cell_type": "code",
   "execution_count": 12,
   "id": "298c11b1",
   "metadata": {},
   "outputs": [
    {
     "data": {
      "application/vnd.jupyter.widget-view+json": {
       "model_id": "23bc8f2c2b7e44069d16e3a9c012ded6",
       "version_major": 2,
       "version_minor": 0
      },
      "text/plain": [
       "  0%|          | 0/545 [00:00<?, ?it/s]"
      ]
     },
     "metadata": {},
     "output_type": "display_data"
    }
   ],
   "source": [
    "from tqdm.notebook import tqdm_notebook\n",
    "import time\n",
    "for i in tqdm_notebook(range(n_pages)):\n",
    "    # adds 200 ms pause\n",
    "    time.sleep(.2)"
   ]
  },
  {
   "cell_type": "code",
   "execution_count": 13,
   "id": "016e5adb",
   "metadata": {},
   "outputs": [],
   "source": [
    "def create_json_file(JSON_FILE,  delete_if_exists=False):\n",
    "    \n",
    "    # Check if JSON_FILE exists\n",
    "    file_exists = os.path.isfile(JSON_FILE)\n",
    "\n",
    "    # If it DOES exist:\n",
    "    if file_exists == True:\n",
    "        \n",
    "        # Check if user wants to delete if exists\n",
    "        if delete_if_exists==True:\n",
    "            \n",
    "            print(f\"[!] {JSON_FILE} already exists. Deleting previous file...\")\n",
    "            # Delete file and confirm it no longer exists\n",
    "            os.remove(JSON_FILE)\n",
    "            # Recursive call to function after old file deleted\n",
    "            create_json_file(JSON_FILE,delete_if_exists=False)\n",
    "        else:\n",
    "            print(f\"[i] {JSON_FILE} already exists.\")\n",
    "\n",
    "            \n",
    "    # If it does NOT exist:\n",
    "    else:\n",
    "        \n",
    "        # INFORM USER AND SAVE EMPTY LIST\n",
    "        print(f\"[i] {JSON_FILE} not found. Saving empty list to new file.\")\n",
    "        \n",
    "        # CREATE ANY NEEDED FOLDERS\n",
    "        # Get the Folder Name only\n",
    "        folder = os.path.dirname(JSON_FILE)\n",
    "\n",
    "        # If JSON_FILE included a folder:\n",
    "        if len(folder)>0:\n",
    "            # Create the folder\n",
    "            os.makedirs(folder,exist_ok=True)\n",
    "        # Save an empty list to start the json file\n",
    "        with open(JSON_FILE,'w') as f:\n",
    "            json.dump([],f)"
   ]
  },
  {
   "cell_type": "code",
   "execution_count": 14,
   "id": "60db9a29",
   "metadata": {},
   "outputs": [
    {
     "name": "stdout",
     "output_type": "stream",
     "text": [
      "[!] Data/results_in_progress_PA_chicken.json already exists. Deleting previous file...\n",
      "[i] Data/results_in_progress_PA_chicken.json not found. Saving empty list to new file.\n",
      "- 0 previous results found.\n"
     ]
    },
    {
     "data": {
      "text/plain": [
       "545"
      ]
     },
     "execution_count": 14,
     "metadata": {},
     "output_type": "execute_result"
    }
   ],
   "source": [
    "## Create a new empty json file (exist the previous if it exists)\n",
    "create_json_file(JSON_FILE, delete_if_exists=True)\n",
    "## Load previous results and use len of results for offset\n",
    "with open(JSON_FILE,'r') as f:\n",
    "    previous_results = json.load(f)\n",
    "    \n",
    "## set offset based on previous results\n",
    "n_results = len(previous_results)\n",
    "print(f'- {n_results} previous results found.')\n",
    "# use our yelp_api variable's search_query method to perform our API call\n",
    "results = yelp_api.search_query(location=LOCATION,\n",
    "                                term=TERM,\n",
    "                               offset=n_results)\n",
    "## How many results total?\n",
    "total_results = results['total']\n",
    "## How many did we get the details for?\n",
    "results_per_page = len(results['businesses'])\n",
    "# Use math.ceil to round up for the total number of pages of results.\n",
    "n_pages = math.ceil((results['total']-n_results)/ results_per_page)\n",
    "n_pages"
   ]
  },
  {
   "cell_type": "code",
   "execution_count": 15,
   "id": "54eb4e6d",
   "metadata": {},
   "outputs": [
    {
     "data": {
      "application/vnd.jupyter.widget-view+json": {
       "model_id": "29ebcc8656484499bde7bbcb7375e7ac",
       "version_major": 2,
       "version_minor": 0
      },
      "text/plain": [
       "  0%|          | 0/545 [00:00<?, ?it/s]"
      ]
     },
     "metadata": {},
     "output_type": "display_data"
    },
    {
     "name": "stdout",
     "output_type": "stream",
     "text": [
      "Exceeded 1000 api calls. Stopping loop.\n"
     ]
    }
   ],
   "source": [
    "for i in tqdm_notebook( range(1,n_pages+1)):\n",
    "    \n",
    "    ## Read in results in progress file and check the length\n",
    "    with open(JSON_FILE, 'r') as f:\n",
    "        previous_results = json.load(f)\n",
    "    ## save number of results for to use as offset\n",
    "    n_results = len(previous_results)\n",
    "    \n",
    "    if (n_results + results_per_page) > 1000:\n",
    "        print('Exceeded 1000 api calls. Stopping loop.')\n",
    "        break\n",
    "    \n",
    "    ## use n_results as the OFFSET \n",
    "    results = yelp_api.search_query(location=LOCATION,\n",
    "                                    term=TERM, \n",
    "                                    offset=n_results)\n",
    "    \n",
    "    \n",
    "    \n",
    "    ## append new results and save to file\n",
    "    previous_results.extend(results['businesses'])\n",
    "    \n",
    "    # display(previous_results)\n",
    "    with open(JSON_FILE,'w') as f:\n",
    "        json.dump(previous_results,f)\n",
    "    \n",
    "    time.sleep(.2)"
   ]
  },
  {
   "cell_type": "code",
   "execution_count": 16,
   "id": "e668997e",
   "metadata": {},
   "outputs": [
    {
     "data": {
      "text/html": [
       "<div>\n",
       "<style scoped>\n",
       "    .dataframe tbody tr th:only-of-type {\n",
       "        vertical-align: middle;\n",
       "    }\n",
       "\n",
       "    .dataframe tbody tr th {\n",
       "        vertical-align: top;\n",
       "    }\n",
       "\n",
       "    .dataframe thead th {\n",
       "        text-align: right;\n",
       "    }\n",
       "</style>\n",
       "<table border=\"1\" class=\"dataframe\">\n",
       "  <thead>\n",
       "    <tr style=\"text-align: right;\">\n",
       "      <th></th>\n",
       "      <th>id</th>\n",
       "      <th>alias</th>\n",
       "      <th>name</th>\n",
       "      <th>image_url</th>\n",
       "      <th>is_closed</th>\n",
       "      <th>url</th>\n",
       "      <th>review_count</th>\n",
       "      <th>categories</th>\n",
       "      <th>rating</th>\n",
       "      <th>coordinates</th>\n",
       "      <th>transactions</th>\n",
       "      <th>location</th>\n",
       "      <th>phone</th>\n",
       "      <th>display_phone</th>\n",
       "      <th>distance</th>\n",
       "      <th>price</th>\n",
       "    </tr>\n",
       "  </thead>\n",
       "  <tbody>\n",
       "    <tr>\n",
       "      <th>0</th>\n",
       "      <td>PNRz9ZAfFXTJDHM1Jkc2rA</td>\n",
       "      <td>brazas-bbq-chicken-philadelphia</td>\n",
       "      <td>Brazas BBQ Chicken</td>\n",
       "      <td>https://s3-media4.fl.yelpcdn.com/bphoto/NTIgw6...</td>\n",
       "      <td>False</td>\n",
       "      <td>https://www.yelp.com/biz/brazas-bbq-chicken-ph...</td>\n",
       "      <td>25</td>\n",
       "      <td>[{'alias': 'chickenshop', 'title': 'Chicken Sh...</td>\n",
       "      <td>4.5</td>\n",
       "      <td>{'latitude': 39.94139968793364, 'longitude': -...</td>\n",
       "      <td>[delivery, pickup]</td>\n",
       "      <td>{'address1': '326 South St', 'address2': None,...</td>\n",
       "      <td>+12675198551</td>\n",
       "      <td>(267) 519-8551</td>\n",
       "      <td>2378.665121</td>\n",
       "      <td>NaN</td>\n",
       "    </tr>\n",
       "    <tr>\n",
       "      <th>1</th>\n",
       "      <td>GWqPmrWu0kXB_-gB1H-j6A</td>\n",
       "      <td>love-and-honey-fried-chicken-philadelphia-2</td>\n",
       "      <td>Love &amp; Honey Fried Chicken</td>\n",
       "      <td>https://s3-media3.fl.yelpcdn.com/bphoto/_5aapS...</td>\n",
       "      <td>False</td>\n",
       "      <td>https://www.yelp.com/biz/love-and-honey-fried-...</td>\n",
       "      <td>469</td>\n",
       "      <td>[{'alias': 'chickenshop', 'title': 'Chicken Sh...</td>\n",
       "      <td>4.5</td>\n",
       "      <td>{'latitude': 39.967461, 'longitude': -75.136992}</td>\n",
       "      <td>[delivery]</td>\n",
       "      <td>{'address1': '1100 N Front St', 'address2': No...</td>\n",
       "      <td>+12157897878</td>\n",
       "      <td>(215) 789-7878</td>\n",
       "      <td>3292.403557</td>\n",
       "      <td>$$</td>\n",
       "    </tr>\n",
       "    <tr>\n",
       "      <th>2</th>\n",
       "      <td>3j08Cje2YWUuRxV60BiVFw</td>\n",
       "      <td>hatch-and-coop-philadelphia-2</td>\n",
       "      <td>Hatch &amp; Coop</td>\n",
       "      <td>https://s3-media2.fl.yelpcdn.com/bphoto/eUb768...</td>\n",
       "      <td>False</td>\n",
       "      <td>https://www.yelp.com/biz/hatch-and-coop-philad...</td>\n",
       "      <td>157</td>\n",
       "      <td>[{'alias': 'newamerican', 'title': 'American (...</td>\n",
       "      <td>4.0</td>\n",
       "      <td>{'latitude': 39.949466, 'longitude': -75.1605349}</td>\n",
       "      <td>[pickup, delivery]</td>\n",
       "      <td>{'address1': '122 S 12th St', 'address2': '', ...</td>\n",
       "      <td>+12159220102</td>\n",
       "      <td>(215) 922-0102</td>\n",
       "      <td>1029.000420</td>\n",
       "      <td>$</td>\n",
       "    </tr>\n",
       "    <tr>\n",
       "      <th>3</th>\n",
       "      <td>hGb-yA-llJ7hnw9NyzE52A</td>\n",
       "      <td>crunchikn-philadelphia</td>\n",
       "      <td>Crunchik'n</td>\n",
       "      <td>https://s3-media1.fl.yelpcdn.com/bphoto/r2FgSh...</td>\n",
       "      <td>False</td>\n",
       "      <td>https://www.yelp.com/biz/crunchikn-philadelphi...</td>\n",
       "      <td>224</td>\n",
       "      <td>[{'alias': 'korean', 'title': 'Korean'}, {'ali...</td>\n",
       "      <td>4.5</td>\n",
       "      <td>{'latitude': 39.9482037845251, 'longitude': -7...</td>\n",
       "      <td>[delivery, pickup]</td>\n",
       "      <td>{'address1': '212 S 11th St', 'address2': '', ...</td>\n",
       "      <td>+12678869373</td>\n",
       "      <td>(267) 886-9373</td>\n",
       "      <td>1188.668839</td>\n",
       "      <td>$$</td>\n",
       "    </tr>\n",
       "    <tr>\n",
       "      <th>4</th>\n",
       "      <td>z5YxP_jyIU7dRKUA7V_H0w</td>\n",
       "      <td>cily-chicken-rice-philadelphia-2</td>\n",
       "      <td>Cily Chicken Rice</td>\n",
       "      <td>https://s3-media2.fl.yelpcdn.com/bphoto/fGRalw...</td>\n",
       "      <td>False</td>\n",
       "      <td>https://www.yelp.com/biz/cily-chicken-rice-phi...</td>\n",
       "      <td>129</td>\n",
       "      <td>[{'alias': 'thai', 'title': 'Thai'}]</td>\n",
       "      <td>4.5</td>\n",
       "      <td>{'latitude': 39.955545, 'longitude': -75.15547...</td>\n",
       "      <td>[delivery, pickup]</td>\n",
       "      <td>{'address1': '933 Race St', 'address2': None, ...</td>\n",
       "      <td>+12159821113</td>\n",
       "      <td>(215) 982-1113</td>\n",
       "      <td>1355.087363</td>\n",
       "      <td>$$</td>\n",
       "    </tr>\n",
       "  </tbody>\n",
       "</table>\n",
       "</div>"
      ],
      "text/plain": [
       "                       id                                        alias  \\\n",
       "0  PNRz9ZAfFXTJDHM1Jkc2rA              brazas-bbq-chicken-philadelphia   \n",
       "1  GWqPmrWu0kXB_-gB1H-j6A  love-and-honey-fried-chicken-philadelphia-2   \n",
       "2  3j08Cje2YWUuRxV60BiVFw                hatch-and-coop-philadelphia-2   \n",
       "3  hGb-yA-llJ7hnw9NyzE52A                       crunchikn-philadelphia   \n",
       "4  z5YxP_jyIU7dRKUA7V_H0w             cily-chicken-rice-philadelphia-2   \n",
       "\n",
       "                         name  \\\n",
       "0          Brazas BBQ Chicken   \n",
       "1  Love & Honey Fried Chicken   \n",
       "2                Hatch & Coop   \n",
       "3                  Crunchik'n   \n",
       "4           Cily Chicken Rice   \n",
       "\n",
       "                                           image_url  is_closed  \\\n",
       "0  https://s3-media4.fl.yelpcdn.com/bphoto/NTIgw6...      False   \n",
       "1  https://s3-media3.fl.yelpcdn.com/bphoto/_5aapS...      False   \n",
       "2  https://s3-media2.fl.yelpcdn.com/bphoto/eUb768...      False   \n",
       "3  https://s3-media1.fl.yelpcdn.com/bphoto/r2FgSh...      False   \n",
       "4  https://s3-media2.fl.yelpcdn.com/bphoto/fGRalw...      False   \n",
       "\n",
       "                                                 url  review_count  \\\n",
       "0  https://www.yelp.com/biz/brazas-bbq-chicken-ph...            25   \n",
       "1  https://www.yelp.com/biz/love-and-honey-fried-...           469   \n",
       "2  https://www.yelp.com/biz/hatch-and-coop-philad...           157   \n",
       "3  https://www.yelp.com/biz/crunchikn-philadelphi...           224   \n",
       "4  https://www.yelp.com/biz/cily-chicken-rice-phi...           129   \n",
       "\n",
       "                                          categories  rating  \\\n",
       "0  [{'alias': 'chickenshop', 'title': 'Chicken Sh...     4.5   \n",
       "1  [{'alias': 'chickenshop', 'title': 'Chicken Sh...     4.5   \n",
       "2  [{'alias': 'newamerican', 'title': 'American (...     4.0   \n",
       "3  [{'alias': 'korean', 'title': 'Korean'}, {'ali...     4.5   \n",
       "4               [{'alias': 'thai', 'title': 'Thai'}]     4.5   \n",
       "\n",
       "                                         coordinates        transactions  \\\n",
       "0  {'latitude': 39.94139968793364, 'longitude': -...  [delivery, pickup]   \n",
       "1   {'latitude': 39.967461, 'longitude': -75.136992}          [delivery]   \n",
       "2  {'latitude': 39.949466, 'longitude': -75.1605349}  [pickup, delivery]   \n",
       "3  {'latitude': 39.9482037845251, 'longitude': -7...  [delivery, pickup]   \n",
       "4  {'latitude': 39.955545, 'longitude': -75.15547...  [delivery, pickup]   \n",
       "\n",
       "                                            location         phone  \\\n",
       "0  {'address1': '326 South St', 'address2': None,...  +12675198551   \n",
       "1  {'address1': '1100 N Front St', 'address2': No...  +12157897878   \n",
       "2  {'address1': '122 S 12th St', 'address2': '', ...  +12159220102   \n",
       "3  {'address1': '212 S 11th St', 'address2': '', ...  +12678869373   \n",
       "4  {'address1': '933 Race St', 'address2': None, ...  +12159821113   \n",
       "\n",
       "    display_phone     distance price  \n",
       "0  (267) 519-8551  2378.665121   NaN  \n",
       "1  (215) 789-7878  3292.403557    $$  \n",
       "2  (215) 922-0102  1029.000420     $  \n",
       "3  (267) 886-9373  1188.668839    $$  \n",
       "4  (215) 982-1113  1355.087363    $$  "
      ]
     },
     "metadata": {},
     "output_type": "display_data"
    },
    {
     "data": {
      "text/html": [
       "<div>\n",
       "<style scoped>\n",
       "    .dataframe tbody tr th:only-of-type {\n",
       "        vertical-align: middle;\n",
       "    }\n",
       "\n",
       "    .dataframe tbody tr th {\n",
       "        vertical-align: top;\n",
       "    }\n",
       "\n",
       "    .dataframe thead th {\n",
       "        text-align: right;\n",
       "    }\n",
       "</style>\n",
       "<table border=\"1\" class=\"dataframe\">\n",
       "  <thead>\n",
       "    <tr style=\"text-align: right;\">\n",
       "      <th></th>\n",
       "      <th>id</th>\n",
       "      <th>alias</th>\n",
       "      <th>name</th>\n",
       "      <th>image_url</th>\n",
       "      <th>is_closed</th>\n",
       "      <th>url</th>\n",
       "      <th>review_count</th>\n",
       "      <th>categories</th>\n",
       "      <th>rating</th>\n",
       "      <th>coordinates</th>\n",
       "      <th>transactions</th>\n",
       "      <th>location</th>\n",
       "      <th>phone</th>\n",
       "      <th>display_phone</th>\n",
       "      <th>distance</th>\n",
       "      <th>price</th>\n",
       "    </tr>\n",
       "  </thead>\n",
       "  <tbody>\n",
       "    <tr>\n",
       "      <th>995</th>\n",
       "      <td>Cn7EPZB7acLQb5fzTwFAcw</td>\n",
       "      <td>chick-fil-a-audubon</td>\n",
       "      <td>Chick-fil-A</td>\n",
       "      <td>https://s3-media4.fl.yelpcdn.com/bphoto/6INZjx...</td>\n",
       "      <td>False</td>\n",
       "      <td>https://www.yelp.com/biz/chick-fil-a-audubon?a...</td>\n",
       "      <td>38</td>\n",
       "      <td>[{'alias': 'hotdogs', 'title': 'Fast Food'}, {...</td>\n",
       "      <td>3.5</td>\n",
       "      <td>{'latitude': 39.891206, 'longitude': -75.0894783}</td>\n",
       "      <td>[delivery]</td>\n",
       "      <td>{'address1': '110 Black Horse Pike', 'address2...</td>\n",
       "      <td>+18565470815</td>\n",
       "      <td>(856) 547-0815</td>\n",
       "      <td>9848.166376</td>\n",
       "      <td>$</td>\n",
       "    </tr>\n",
       "    <tr>\n",
       "      <th>996</th>\n",
       "      <td>YNl2JK7qqYyHqKc4bbKivg</td>\n",
       "      <td>la-dominique-philadelphia</td>\n",
       "      <td>La Dominique</td>\n",
       "      <td>https://s3-media3.fl.yelpcdn.com/bphoto/rbl7BN...</td>\n",
       "      <td>False</td>\n",
       "      <td>https://www.yelp.com/biz/la-dominique-philadel...</td>\n",
       "      <td>44</td>\n",
       "      <td>[{'alias': 'creperies', 'title': 'Creperies'},...</td>\n",
       "      <td>4.5</td>\n",
       "      <td>{'latitude': 39.9555876106024, 'longitude': -7...</td>\n",
       "      <td>[delivery]</td>\n",
       "      <td>{'address1': '3300 Market St', 'address2': '',...</td>\n",
       "      <td></td>\n",
       "      <td></td>\n",
       "      <td>1585.485187</td>\n",
       "      <td>$</td>\n",
       "    </tr>\n",
       "    <tr>\n",
       "      <th>997</th>\n",
       "      <td>8Xk9nyQkaLZyWJcZrwX2uA</td>\n",
       "      <td>kung-fu-tea-philadelphia-15</td>\n",
       "      <td>Kung Fu Tea</td>\n",
       "      <td>https://s3-media4.fl.yelpcdn.com/bphoto/HFOgwq...</td>\n",
       "      <td>False</td>\n",
       "      <td>https://www.yelp.com/biz/kung-fu-tea-philadelp...</td>\n",
       "      <td>21</td>\n",
       "      <td>[{'alias': 'bubbletea', 'title': 'Bubble Tea'}...</td>\n",
       "      <td>4.5</td>\n",
       "      <td>{'latitude': 40.00282, 'longitude': -75.22171}</td>\n",
       "      <td>[pickup, delivery]</td>\n",
       "      <td>{'address1': '4500 City Ave', 'address2': None...</td>\n",
       "      <td>+12159219082</td>\n",
       "      <td>(215) 921-9082</td>\n",
       "      <td>6966.706042</td>\n",
       "      <td>NaN</td>\n",
       "    </tr>\n",
       "    <tr>\n",
       "      <th>998</th>\n",
       "      <td>_Uvb_q66j8SDPG9RfRvNvg</td>\n",
       "      <td>blk-shp-swedesboro</td>\n",
       "      <td>Blk Shp</td>\n",
       "      <td>https://s3-media2.fl.yelpcdn.com/bphoto/m9-H2D...</td>\n",
       "      <td>False</td>\n",
       "      <td>https://www.yelp.com/biz/blk-shp-swedesboro?ad...</td>\n",
       "      <td>43</td>\n",
       "      <td>[{'alias': 'tapas', 'title': 'Tapas Bars'}, {'...</td>\n",
       "      <td>4.0</td>\n",
       "      <td>{'latitude': 39.749312, 'longitude': -75.308646}</td>\n",
       "      <td>[]</td>\n",
       "      <td>{'address1': '1301 Kings Hwy', 'address2': '',...</td>\n",
       "      <td>+18564670200</td>\n",
       "      <td>(856) 467-0200</td>\n",
       "      <td>25582.758051</td>\n",
       "      <td>NaN</td>\n",
       "    </tr>\n",
       "    <tr>\n",
       "      <th>999</th>\n",
       "      <td>EgI6S-JxwpxICPsqmaggiw</td>\n",
       "      <td>sofitel-philadelphia-philadelphia</td>\n",
       "      <td>Sofitel Philadelphia</td>\n",
       "      <td>https://s3-media4.fl.yelpcdn.com/bphoto/21UjLm...</td>\n",
       "      <td>False</td>\n",
       "      <td>https://www.yelp.com/biz/sofitel-philadelphia-...</td>\n",
       "      <td>409</td>\n",
       "      <td>[{'alias': 'hotels', 'title': 'Hotels'}]</td>\n",
       "      <td>4.0</td>\n",
       "      <td>{'latitude': 39.9507904, 'longitude': -75.1690...</td>\n",
       "      <td>[]</td>\n",
       "      <td>{'address1': '120 S 17th St', 'address2': '', ...</td>\n",
       "      <td>+12155698300</td>\n",
       "      <td>(215) 569-8300</td>\n",
       "      <td>345.520198</td>\n",
       "      <td>$$</td>\n",
       "    </tr>\n",
       "  </tbody>\n",
       "</table>\n",
       "</div>"
      ],
      "text/plain": [
       "                         id                              alias  \\\n",
       "995  Cn7EPZB7acLQb5fzTwFAcw                chick-fil-a-audubon   \n",
       "996  YNl2JK7qqYyHqKc4bbKivg          la-dominique-philadelphia   \n",
       "997  8Xk9nyQkaLZyWJcZrwX2uA        kung-fu-tea-philadelphia-15   \n",
       "998  _Uvb_q66j8SDPG9RfRvNvg                 blk-shp-swedesboro   \n",
       "999  EgI6S-JxwpxICPsqmaggiw  sofitel-philadelphia-philadelphia   \n",
       "\n",
       "                     name                                          image_url  \\\n",
       "995           Chick-fil-A  https://s3-media4.fl.yelpcdn.com/bphoto/6INZjx...   \n",
       "996          La Dominique  https://s3-media3.fl.yelpcdn.com/bphoto/rbl7BN...   \n",
       "997           Kung Fu Tea  https://s3-media4.fl.yelpcdn.com/bphoto/HFOgwq...   \n",
       "998               Blk Shp  https://s3-media2.fl.yelpcdn.com/bphoto/m9-H2D...   \n",
       "999  Sofitel Philadelphia  https://s3-media4.fl.yelpcdn.com/bphoto/21UjLm...   \n",
       "\n",
       "     is_closed                                                url  \\\n",
       "995      False  https://www.yelp.com/biz/chick-fil-a-audubon?a...   \n",
       "996      False  https://www.yelp.com/biz/la-dominique-philadel...   \n",
       "997      False  https://www.yelp.com/biz/kung-fu-tea-philadelp...   \n",
       "998      False  https://www.yelp.com/biz/blk-shp-swedesboro?ad...   \n",
       "999      False  https://www.yelp.com/biz/sofitel-philadelphia-...   \n",
       "\n",
       "     review_count                                         categories  rating  \\\n",
       "995            38  [{'alias': 'hotdogs', 'title': 'Fast Food'}, {...     3.5   \n",
       "996            44  [{'alias': 'creperies', 'title': 'Creperies'},...     4.5   \n",
       "997            21  [{'alias': 'bubbletea', 'title': 'Bubble Tea'}...     4.5   \n",
       "998            43  [{'alias': 'tapas', 'title': 'Tapas Bars'}, {'...     4.0   \n",
       "999           409           [{'alias': 'hotels', 'title': 'Hotels'}]     4.0   \n",
       "\n",
       "                                           coordinates        transactions  \\\n",
       "995  {'latitude': 39.891206, 'longitude': -75.0894783}          [delivery]   \n",
       "996  {'latitude': 39.9555876106024, 'longitude': -7...          [delivery]   \n",
       "997     {'latitude': 40.00282, 'longitude': -75.22171}  [pickup, delivery]   \n",
       "998   {'latitude': 39.749312, 'longitude': -75.308646}                  []   \n",
       "999  {'latitude': 39.9507904, 'longitude': -75.1690...                  []   \n",
       "\n",
       "                                              location         phone  \\\n",
       "995  {'address1': '110 Black Horse Pike', 'address2...  +18565470815   \n",
       "996  {'address1': '3300 Market St', 'address2': '',...                 \n",
       "997  {'address1': '4500 City Ave', 'address2': None...  +12159219082   \n",
       "998  {'address1': '1301 Kings Hwy', 'address2': '',...  +18564670200   \n",
       "999  {'address1': '120 S 17th St', 'address2': '', ...  +12155698300   \n",
       "\n",
       "      display_phone      distance price  \n",
       "995  (856) 547-0815   9848.166376     $  \n",
       "996                   1585.485187     $  \n",
       "997  (215) 921-9082   6966.706042   NaN  \n",
       "998  (856) 467-0200  25582.758051   NaN  \n",
       "999  (215) 569-8300    345.520198    $$  "
      ]
     },
     "metadata": {},
     "output_type": "display_data"
    }
   ],
   "source": [
    "# convert .json to dataframe\n",
    "final_df = pd.read_json(JSON_FILE)\n",
    "display(final_df.head(), final_df.tail())"
   ]
  },
  {
   "cell_type": "markdown",
   "id": "86a77141",
   "metadata": {},
   "source": [
    "##### Check for duplicates"
   ]
  },
  {
   "cell_type": "code",
   "execution_count": 17,
   "id": "fa1d1330",
   "metadata": {},
   "outputs": [
    {
     "data": {
      "text/plain": [
       "68"
      ]
     },
     "execution_count": 17,
     "metadata": {},
     "output_type": "execute_result"
    }
   ],
   "source": [
    "# check for duplicate results using subset='id' which will check the id columns for duplicates\n",
    "final_df.duplicated(subset='id').sum()"
   ]
  },
  {
   "cell_type": "code",
   "execution_count": 18,
   "id": "a82d20b9",
   "metadata": {},
   "outputs": [
    {
     "data": {
      "text/plain": [
       "0"
      ]
     },
     "execution_count": 18,
     "metadata": {},
     "output_type": "execute_result"
    }
   ],
   "source": [
    "# drop the duplicate ids and confirm there are no more duplicates\n",
    "final_df = final_df.drop_duplicates(subset='id')\n",
    "final_df.duplicated(subset='id').sum()"
   ]
  },
  {
   "cell_type": "markdown",
   "id": "1677d507",
   "metadata": {},
   "source": [
    "##### Save the final DataFrame to a .csv (or .csv.gz if it's too big)\n"
   ]
  },
  {
   "cell_type": "code",
   "execution_count": 19,
   "id": "8aa02252",
   "metadata": {},
   "outputs": [],
   "source": [
    "# save the funal results to a compressed csv\n",
    "final_df.to_csv('Data/final_results_PA_chicken.csv.gz', compression='gzip', index=False)"
   ]
  },
  {
   "cell_type": "code",
   "execution_count": null,
   "id": "19520dcc",
   "metadata": {},
   "outputs": [],
   "source": []
  }
 ],
 "metadata": {
  "kernelspec": {
   "display_name": "Python (dojo-env)",
   "language": "python",
   "name": "dojo-env"
  },
  "language_info": {
   "codemirror_mode": {
    "name": "ipython",
    "version": 3
   },
   "file_extension": ".py",
   "mimetype": "text/x-python",
   "name": "python",
   "nbconvert_exporter": "python",
   "pygments_lexer": "ipython3",
   "version": "3.9.15"
  },
  "toc": {
   "base_numbering": 1,
   "nav_menu": {},
   "number_sections": false,
   "sideBar": true,
   "skip_h1_title": false,
   "title_cell": "Table of Contents",
   "title_sidebar": "Contents",
   "toc_cell": false,
   "toc_position": {},
   "toc_section_display": true,
   "toc_window_display": false
  }
 },
 "nbformat": 4,
 "nbformat_minor": 5
}
